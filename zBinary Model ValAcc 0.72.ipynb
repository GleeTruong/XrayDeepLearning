{
 "cells": [
  {
   "cell_type": "code",
   "execution_count": 1,
   "metadata": {},
   "outputs": [
    {
     "data": {
      "text/html": [
       "<style>.container { width:100% !important; }</style>"
      ],
      "text/plain": [
       "<IPython.core.display.HTML object>"
      ]
     },
     "metadata": {},
     "output_type": "display_data"
    },
    {
     "data": {
      "text/plain": [
       "'C:\\\\Users\\\\rb\\\\Downloads'"
      ]
     },
     "execution_count": 1,
     "metadata": {},
     "output_type": "execute_result"
    }
   ],
   "source": [
    "from IPython.core.display import display, HTML\n",
    "display(HTML(\"<style>.container { width:100% !important; }</style>\"))\n",
    "\n",
    "#!pip install pandas\n",
    "%pwd"
   ]
  },
  {
   "cell_type": "code",
   "execution_count": 2,
   "metadata": {},
   "outputs": [
    {
     "name": "stdout",
     "output_type": "stream",
     "text": [
      "C:\\Users\\rb\\OneDrive - Balaian\\School\\Capstone\\Collapsed\n",
      "C:\\Users\\rb\\OneDrive - Balaian\\School\\Capstone\\BrokenNotbroken\n",
      "thank you for setting vars\n"
     ]
    }
   ],
   "source": [
    "############################\n",
    "#####  SET THESE VARS  #####\n",
    "############################\n",
    "target_size  = (128, 128)\n",
    "input_shape  = (128, 128, 3)\n",
    "batch_size   = 32\n",
    "epoch_count  = 10\n",
    "LINUX = False\n",
    "\n",
    "if LINUX:\n",
    "    BodyPartPath = '/tf/C/Desktop/Collapsed'\n",
    "    BrokenPath   = '/tf/C/Desktop/BrokenNotBroken'\n",
    "else:\n",
    "    BodyPartPath = r'C:\\Users\\rb\\OneDrive - Balaian\\School\\Capstone\\Collapsed'\n",
    "    BrokenPath   = r'C:\\Users\\rb\\OneDrive - Balaian\\School\\Capstone\\BrokenNotbroken'\n",
    "\n",
    "print(BodyPartPath)\n",
    "print(BrokenPath)\n",
    "\n",
    "print('thank you for setting vars')"
   ]
  },
  {
   "cell_type": "code",
   "execution_count": 3,
   "metadata": {},
   "outputs": [
    {
     "name": "stdout",
     "output_type": "stream",
     "text": [
      "Tensorflow version:  2.5.0-dev20201123\n",
      "Keras version     :  2.5.0\n",
      "Num GPUs Available:  1\n"
     ]
    }
   ],
   "source": [
    "import tensorflow as tf\n",
    "from tensorflow import keras\n",
    "\n",
    "import numpy as np\n",
    "import pandas as pd\n",
    "import matplotlib.pyplot as plt\n",
    "\n",
    "from numpy import array\n",
    "from tensorflow.keras.models import Sequential\n",
    "from tensorflow.keras.layers import Dense\n",
    "from tensorflow.keras.layers import Activation\n",
    "from tensorflow.keras.layers import Dropout\n",
    "from tensorflow.keras.layers import BatchNormalization\n",
    "from tensorflow.keras.layers import Conv2D\n",
    "from tensorflow.keras.layers import MaxPooling2D\n",
    "from tensorflow.keras.layers import Flatten\n",
    "from tensorflow.keras.preprocessing.image import ImageDataGenerator, array_to_img, img_to_array, load_img\n",
    "\n",
    "print('Tensorflow version: ', tf.__version__)\n",
    "print('Keras version     : ', keras.__version__)\n",
    "\n",
    "# GPU SETUP (YOU MAY NEED TO SKIP THIS) \n",
    "print(\"Num GPUs Available: \", len(tf.config.experimental.list_physical_devices('GPU')))\n",
    "physical_devices = tf.config.list_physical_devices('GPU') \n",
    "tf.config.experimental.set_memory_growth(physical_devices[0], True)\n",
    "tf.config.list_physical_devices()\n",
    "\n",
    "# FOR DEBUG of GPU USE SET TO TRUE\n",
    "tf.debugging.set_log_device_placement(False)"
   ]
  },
  {
   "cell_type": "code",
   "execution_count": 4,
   "metadata": {},
   "outputs": [],
   "source": [
    "def plot_history(history):\n",
    "  plt.figure()\n",
    "  plt.xlabel('Epoch')\n",
    "  plt.ylabel('Accuracy')\n",
    "  plt.plot(history.epoch, np.array(history.history['accuracy']), label='Train Accuracy')\n",
    "  plt.plot(history.epoch, np.array(history.history['val_accuracy']), label = 'Val Accuracy')\n",
    "  plt.legend()\n",
    "  plt.ylim([0, 1])"
   ]
  },
  {
   "cell_type": "code",
   "execution_count": 9,
   "metadata": {
    "scrolled": false
   },
   "outputs": [
    {
     "name": "stdout",
     "output_type": "stream",
     "text": [
      "Found 36806 images belonging to 2 classes.\n",
      "Found 3197 images belonging to 2 classes.\n",
      "Model: \"sequential_3\"\n",
      "_________________________________________________________________\n",
      "Layer (type)                 Output Shape              Param #   \n",
      "=================================================================\n",
      "conv2d_19 (Conv2D)           (None, 128, 128, 32)      2432      \n",
      "_________________________________________________________________\n",
      "batch_normalization_24 (Batc (None, 128, 128, 32)      128       \n",
      "_________________________________________________________________\n",
      "activation_27 (Activation)   (None, 128, 128, 32)      0         \n",
      "_________________________________________________________________\n",
      "conv2d_20 (Conv2D)           (None, 128, 128, 64)      18496     \n",
      "_________________________________________________________________\n",
      "max_pooling2d_13 (MaxPooling (None, 64, 64, 64)        0         \n",
      "_________________________________________________________________\n",
      "batch_normalization_25 (Batc (None, 64, 64, 64)        256       \n",
      "_________________________________________________________________\n",
      "activation_28 (Activation)   (None, 64, 64, 64)        0         \n",
      "_________________________________________________________________\n",
      "conv2d_21 (Conv2D)           (None, 64, 64, 96)        55392     \n",
      "_________________________________________________________________\n",
      "max_pooling2d_14 (MaxPooling (None, 32, 32, 96)        0         \n",
      "_________________________________________________________________\n",
      "batch_normalization_26 (Batc (None, 32, 32, 96)        384       \n",
      "_________________________________________________________________\n",
      "activation_29 (Activation)   (None, 32, 32, 96)        0         \n",
      "_________________________________________________________________\n",
      "conv2d_22 (Conv2D)           (None, 32, 32, 128)       110720    \n",
      "_________________________________________________________________\n",
      "batch_normalization_27 (Batc (None, 32, 32, 128)       512       \n",
      "_________________________________________________________________\n",
      "activation_30 (Activation)   (None, 32, 32, 128)       0         \n",
      "_________________________________________________________________\n",
      "conv2d_23 (Conv2D)           (None, 32, 32, 160)       184480    \n",
      "_________________________________________________________________\n",
      "max_pooling2d_15 (MaxPooling (None, 16, 16, 160)       0         \n",
      "_________________________________________________________________\n",
      "batch_normalization_28 (Batc (None, 16, 16, 160)       640       \n",
      "_________________________________________________________________\n",
      "activation_31 (Activation)   (None, 16, 16, 160)       0         \n",
      "_________________________________________________________________\n",
      "conv2d_24 (Conv2D)           (None, 16, 16, 192)       276672    \n",
      "_________________________________________________________________\n",
      "max_pooling2d_16 (MaxPooling (None, 8, 8, 192)         0         \n",
      "_________________________________________________________________\n",
      "batch_normalization_29 (Batc (None, 8, 8, 192)         768       \n",
      "_________________________________________________________________\n",
      "activation_32 (Activation)   (None, 8, 8, 192)         0         \n",
      "_________________________________________________________________\n",
      "conv2d_25 (Conv2D)           (None, 8, 8, 256)         442624    \n",
      "_________________________________________________________________\n",
      "batch_normalization_30 (Batc (None, 8, 8, 256)         1024      \n",
      "_________________________________________________________________\n",
      "activation_33 (Activation)   (None, 8, 8, 256)         0         \n",
      "_________________________________________________________________\n",
      "flatten_3 (Flatten)          (None, 16384)             0         \n",
      "_________________________________________________________________\n",
      "dense_8 (Dense)              (None, 64)                1048640   \n",
      "_________________________________________________________________\n",
      "batch_normalization_31 (Batc (None, 64)                256       \n",
      "_________________________________________________________________\n",
      "activation_34 (Activation)   (None, 64)                0         \n",
      "_________________________________________________________________\n",
      "dense_9 (Dense)              (None, 1)                 65        \n",
      "_________________________________________________________________\n",
      "activation_35 (Activation)   (None, 1)                 0         \n",
      "=================================================================\n",
      "Total params: 2,143,489\n",
      "Trainable params: 2,141,505\n",
      "Non-trainable params: 1,984\n",
      "_________________________________________________________________\n"
     ]
    }
   ],
   "source": [
    "#def train_broken():\n",
    "\n",
    "if LINUX:\n",
    "    train_path = BrokenPath + '/train'\n",
    "    valid_path = BrokenPath + '/valid'\n",
    "else:\n",
    "    train_path = BrokenPath + '\\\\train'\n",
    "    valid_path = BrokenPath + '\\\\valid'\n",
    "\n",
    "train_datagen = ImageDataGenerator(\n",
    "    rescale = 1.0 / 255.0,     \n",
    "    rotation_range = 90, \n",
    "    horizontal_flip = True)\n",
    "\n",
    "valid_datagen = ImageDataGenerator(\n",
    "    rescale = 1.0 / 255.0)\n",
    "\n",
    "train_generator = train_datagen.flow_from_directory(\n",
    "    train_path,\n",
    "    target_size = target_size,\n",
    "    batch_size = batch_size,\n",
    "    class_mode = \"binary\",\n",
    "    seed = 123)\n",
    "\n",
    "valid_generator = valid_datagen.flow_from_directory(\n",
    "    valid_path,\n",
    "    target_size = target_size,\n",
    "    batch_size = batch_size,\n",
    "    class_mode = \"binary\",\n",
    "    seed = 123)\n",
    "\n",
    "model = Sequential()\n",
    "\n",
    "model.add(Conv2D(32, (5, 5), padding = 'same', input_shape = input_shape))\n",
    "model.add(BatchNormalization())\n",
    "model.add(Activation('relu'))\n",
    "\n",
    "model.add(Conv2D(64, (3, 3), padding = 'same'))\n",
    "model.add(MaxPooling2D())\n",
    "model.add(BatchNormalization())\n",
    "model.add(Activation('relu'))\n",
    "\n",
    "model.add(Conv2D(96, (3, 3), padding = 'same'))\n",
    "model.add(MaxPooling2D())\n",
    "model.add(BatchNormalization())\n",
    "model.add(Activation('relu'))\n",
    "\n",
    "model.add(Conv2D(128, (3, 3), padding = 'same'))\n",
    "model.add(BatchNormalization())\n",
    "model.add(Activation('relu'))\n",
    "\n",
    "model.add(Conv2D(160, (3, 3), padding = 'same'))\n",
    "model.add(MaxPooling2D())\n",
    "model.add(BatchNormalization())\n",
    "model.add(Activation('relu'))\n",
    "\n",
    "model.add(Conv2D(192,(3, 3), padding = 'same'))\n",
    "model.add(MaxPooling2D())\n",
    "model.add(BatchNormalization())\n",
    "model.add(Activation('relu'))\n",
    "\n",
    "model.add(Conv2D(256, (3, 3), padding='same'))\n",
    "model.add(BatchNormalization())\n",
    "model.add(Activation('relu'))\n",
    "\n",
    "model.add(Flatten())\n",
    "\n",
    "model.add(Dense(64))\n",
    "model.add(BatchNormalization())\n",
    "model.add(Activation('relu'))\n",
    "\n",
    "model.add(Dense(1))              \n",
    "model.add(Activation('sigmoid'))\n",
    "\n",
    "model.compile(loss='binary_crossentropy',\n",
    "              optimizer='adam',\n",
    "              metrics=['accuracy'])\n",
    "\n",
    "model.summary()"
   ]
  },
  {
   "cell_type": "code",
   "execution_count": 10,
   "metadata": {},
   "outputs": [
    {
     "name": "stdout",
     "output_type": "stream",
     "text": [
      "Epoch 1/12\n",
      "1151/1151 [==============================] - 173s 149ms/step - loss: 0.6824 - accuracy: 0.5788 - val_loss: 0.7155 - val_accuracy: 0.5524\n",
      "Epoch 2/12\n",
      "1151/1151 [==============================] - 172s 149ms/step - loss: 0.6468 - accuracy: 0.6224 - val_loss: 0.8171 - val_accuracy: 0.5214\n",
      "Epoch 3/12\n",
      "1151/1151 [==============================] - 172s 150ms/step - loss: 0.6203 - accuracy: 0.6575 - val_loss: 0.6310 - val_accuracy: 0.6556\n",
      "Epoch 4/12\n",
      "1151/1151 [==============================] - 173s 150ms/step - loss: 0.6004 - accuracy: 0.6835 - val_loss: 0.7513 - val_accuracy: 0.6062\n",
      "Epoch 5/12\n",
      "1151/1151 [==============================] - 172s 149ms/step - loss: 0.5868 - accuracy: 0.6923 - val_loss: 0.6003 - val_accuracy: 0.6766\n",
      "Epoch 6/12\n",
      "1151/1151 [==============================] - 172s 150ms/step - loss: 0.5670 - accuracy: 0.7077 - val_loss: 0.6307 - val_accuracy: 0.6547\n",
      "Epoch 7/12\n",
      "1151/1151 [==============================] - 172s 150ms/step - loss: 0.5588 - accuracy: 0.7177 - val_loss: 0.6062 - val_accuracy: 0.6634\n",
      "Epoch 8/12\n",
      "1151/1151 [==============================] - 174s 151ms/step - loss: 0.5539 - accuracy: 0.7193 - val_loss: 0.5803 - val_accuracy: 0.6838\n",
      "Epoch 9/12\n",
      "1151/1151 [==============================] - 174s 151ms/step - loss: 0.5407 - accuracy: 0.7305 - val_loss: 0.5626 - val_accuracy: 0.7032\n",
      "Epoch 10/12\n",
      "1151/1151 [==============================] - 173s 151ms/step - loss: 0.5330 - accuracy: 0.7386 - val_loss: 0.6924 - val_accuracy: 0.6284\n",
      "Epoch 11/12\n",
      "1151/1151 [==============================] - 172s 150ms/step - loss: 0.5238 - accuracy: 0.7475 - val_loss: 0.5661 - val_accuracy: 0.7010\n",
      "Epoch 12/12\n",
      "1151/1151 [==============================] - 172s 149ms/step - loss: 0.5230 - accuracy: 0.7463 - val_loss: 0.5465 - val_accuracy: 0.7226\n"
     ]
    },
    {
     "data": {
      "image/png": "[encoded data removed]",
      "text/plain": [
       "<Figure size 432x288 with 1 Axes>"
      ]
     },
     "metadata": {
      "needs_background": "light"
     },
     "output_type": "display_data"
    }
   ],
   "source": [
    "history = model.fit(train_generator, epochs = 12, validation_data = valid_generator)\n",
    "\n",
    "plot_history(history)"
   ]
  },
  {
   "cell_type": "code",
   "execution_count": null,
   "metadata": {},
   "outputs": [],
   "source": []
  },
  {
   "cell_type": "code",
   "execution_count": null,
   "metadata": {
    "scrolled": false
   },
   "outputs": [],
   "source": [
    "\n"
   ]
  },
  {
   "cell_type": "code",
   "execution_count": null,
   "metadata": {},
   "outputs": [],
   "source": []
  },
  {
   "cell_type": "code",
   "execution_count": null,
   "metadata": {},
   "outputs": [],
   "source": []
  },
  {
   "cell_type": "code",
   "execution_count": null,
   "metadata": {},
   "outputs": [],
   "source": []
  }
 ],
 "metadata": {
  "kernelspec": {
   "display_name": "Python 3",
   "language": "python",
   "name": "python3"
  },
  "language_info": {
   "codemirror_mode": {
    "name": "ipython",
    "version": 3
   },
   "file_extension": ".py",
   "mimetype": "text/x-python",
   "name": "python",
   "nbconvert_exporter": "python",
   "pygments_lexer": "ipython3",
   "version": "3.8.5"
  }
 },
 "nbformat": 4,
 "nbformat_minor": 4
}
