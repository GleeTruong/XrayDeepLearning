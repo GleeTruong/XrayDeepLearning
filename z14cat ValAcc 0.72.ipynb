{
 "cells": [
  {
   "cell_type": "code",
   "execution_count": 5,
   "metadata": {},
   "outputs": [
    {
     "data": {
      "text/html": [
       "<style>.container { width:100% !important; }</style>"
      ],
      "text/plain": [
       "<IPython.core.display.HTML object>"
      ]
     },
     "metadata": {},
     "output_type": "display_data"
    },
    {
     "data": {
      "text/plain": [
       "'C:\\\\Users\\\\rb\\\\Downloads'"
      ]
     },
     "execution_count": 5,
     "metadata": {},
     "output_type": "execute_result"
    }
   ],
   "source": [
    "from IPython.core.display import display, HTML\n",
    "display(HTML(\"<style>.container { width:100% !important; }</style>\"))\n",
    "\n",
    "#!pip install pandas\n",
    "%pwd"
   ]
  },
  {
   "cell_type": "code",
   "execution_count": 6,
   "metadata": {},
   "outputs": [
    {
     "name": "stdout",
     "output_type": "stream",
     "text": [
      "C:\\Users\\rb\\OneDrive - Balaian\\School\\Capstone\\14cat\n",
      "thank you for setting vars\n"
     ]
    }
   ],
   "source": [
    "############################\n",
    "#####  SET THESE VARS  #####\n",
    "############################\n",
    "target_size  = (128, 128)\n",
    "input_shape  = (128, 128, 3)\n",
    "batch_size   = 32\n",
    "epoch_count  = 25\n",
    "LINUX = False\n",
    "\n",
    "if LINUX:\n",
    "    PathToFiles  = '/tf/C/Desktop/14cat'\n",
    "else:\n",
    "    PathToFiles  = r'C:\\Users\\rb\\OneDrive - Balaian\\School\\Capstone\\14cat'\n",
    "\n",
    "print(PathToFiles)\n",
    "\n",
    "print('thank you for setting vars')"
   ]
  },
  {
   "cell_type": "code",
   "execution_count": 7,
   "metadata": {},
   "outputs": [
    {
     "name": "stdout",
     "output_type": "stream",
     "text": [
      "Tensorflow version:  2.5.0-dev20201123\n",
      "Keras version     :  2.5.0\n",
      "Num GPUs Available:  1\n"
     ]
    }
   ],
   "source": [
    "import tensorflow as tf\n",
    "from tensorflow import keras\n",
    "\n",
    "import numpy as np\n",
    "import pandas as pd\n",
    "import matplotlib.pyplot as plt\n",
    "\n",
    "from numpy import array\n",
    "from tensorflow.keras.models import Sequential\n",
    "from tensorflow.keras.layers import Dense\n",
    "from tensorflow.keras.layers import Activation\n",
    "from tensorflow.keras.layers import Dropout\n",
    "from tensorflow.keras.layers import BatchNormalization\n",
    "from tensorflow.keras.layers import Conv2D\n",
    "from tensorflow.keras.layers import MaxPooling2D\n",
    "from tensorflow.keras.layers import Flatten\n",
    "from tensorflow.keras.preprocessing.image import ImageDataGenerator, array_to_img, img_to_array, load_img\n",
    "\n",
    "print('Tensorflow version: ', tf.__version__)\n",
    "print('Keras version     : ', keras.__version__)\n",
    "\n",
    "# GPU SETUP (YOU MAY NEED TO SKIP THIS) \n",
    "print(\"Num GPUs Available: \", len(tf.config.experimental.list_physical_devices('GPU')))\n",
    "physical_devices = tf.config.list_physical_devices('GPU') \n",
    "tf.config.experimental.set_memory_growth(physical_devices[0], True)\n",
    "tf.config.list_physical_devices()\n",
    "\n",
    "# FOR DEBUG of GPU USE SET TO TRUE\n",
    "tf.debugging.set_log_device_placement(False)"
   ]
  },
  {
   "cell_type": "code",
   "execution_count": 8,
   "metadata": {},
   "outputs": [],
   "source": [
    "def plot_history(history):\n",
    "  plt.figure()\n",
    "  plt.xlabel('Epoch')\n",
    "  plt.ylabel('Accuracy')\n",
    "  plt.plot(history.epoch, np.array(history.history['accuracy']), label='Train Accuracy')\n",
    "  plt.plot(history.epoch, np.array(history.history['val_accuracy']), label = 'Val Accuracy')\n",
    "  plt.legend()\n",
    "  plt.ylim([0, 1])"
   ]
  },
  {
   "cell_type": "code",
   "execution_count": 9,
   "metadata": {
    "scrolled": false
   },
   "outputs": [
    {
     "name": "stdout",
     "output_type": "stream",
     "text": [
      "Found 36806 images belonging to 14 classes.\n",
      "Found 3197 images belonging to 14 classes.\n",
      "Model: \"sequential\"\n",
      "_________________________________________________________________\n",
      "Layer (type)                 Output Shape              Param #   \n",
      "=================================================================\n",
      "conv2d (Conv2D)              (None, 128, 128, 32)      2432      \n",
      "_________________________________________________________________\n",
      "batch_normalization (BatchNo (None, 128, 128, 32)      128       \n",
      "_________________________________________________________________\n",
      "activation (Activation)      (None, 128, 128, 32)      0         \n",
      "_________________________________________________________________\n",
      "conv2d_1 (Conv2D)            (None, 124, 124, 64)      51264     \n",
      "_________________________________________________________________\n",
      "max_pooling2d (MaxPooling2D) (None, 62, 62, 64)        0         \n",
      "_________________________________________________________________\n",
      "batch_normalization_1 (Batch (None, 62, 62, 64)        256       \n",
      "_________________________________________________________________\n",
      "activation_1 (Activation)    (None, 62, 62, 64)        0         \n",
      "_________________________________________________________________\n",
      "conv2d_2 (Conv2D)            (None, 60, 60, 96)        55392     \n",
      "_________________________________________________________________\n",
      "max_pooling2d_1 (MaxPooling2 (None, 30, 30, 96)        0         \n",
      "_________________________________________________________________\n",
      "batch_normalization_2 (Batch (None, 30, 30, 96)        384       \n",
      "_________________________________________________________________\n",
      "activation_2 (Activation)    (None, 30, 30, 96)        0         \n",
      "_________________________________________________________________\n",
      "conv2d_3 (Conv2D)            (None, 28, 28, 128)       110720    \n",
      "_________________________________________________________________\n",
      "max_pooling2d_2 (MaxPooling2 (None, 14, 14, 128)       0         \n",
      "_________________________________________________________________\n",
      "batch_normalization_3 (Batch (None, 14, 14, 128)       512       \n",
      "_________________________________________________________________\n",
      "activation_3 (Activation)    (None, 14, 14, 128)       0         \n",
      "_________________________________________________________________\n",
      "conv2d_4 (Conv2D)            (None, 12, 12, 160)       184480    \n",
      "_________________________________________________________________\n",
      "batch_normalization_4 (Batch (None, 12, 12, 160)       640       \n",
      "_________________________________________________________________\n",
      "activation_4 (Activation)    (None, 12, 12, 160)       0         \n",
      "_________________________________________________________________\n",
      "conv2d_5 (Conv2D)            (None, 10, 10, 192)       276672    \n",
      "_________________________________________________________________\n",
      "batch_normalization_5 (Batch (None, 10, 10, 192)       768       \n",
      "_________________________________________________________________\n",
      "activation_5 (Activation)    (None, 10, 10, 192)       0         \n",
      "_________________________________________________________________\n",
      "conv2d_6 (Conv2D)            (None, 8, 8, 256)         442624    \n",
      "_________________________________________________________________\n",
      "max_pooling2d_3 (MaxPooling2 (None, 4, 4, 256)         0         \n",
      "_________________________________________________________________\n",
      "batch_normalization_6 (Batch (None, 4, 4, 256)         1024      \n",
      "_________________________________________________________________\n",
      "activation_6 (Activation)    (None, 4, 4, 256)         0         \n",
      "_________________________________________________________________\n",
      "flatten (Flatten)            (None, 4096)              0         \n",
      "_________________________________________________________________\n",
      "dense (Dense)                (None, 128)               524416    \n",
      "_________________________________________________________________\n",
      "batch_normalization_7 (Batch (None, 128)               512       \n",
      "_________________________________________________________________\n",
      "activation_7 (Activation)    (None, 128)               0         \n",
      "_________________________________________________________________\n",
      "dense_1 (Dense)              (None, 64)                8256      \n",
      "_________________________________________________________________\n",
      "batch_normalization_8 (Batch (None, 64)                256       \n",
      "_________________________________________________________________\n",
      "activation_8 (Activation)    (None, 64)                0         \n",
      "_________________________________________________________________\n",
      "dense_2 (Dense)              (None, 14)                910       \n",
      "_________________________________________________________________\n",
      "activation_9 (Activation)    (None, 14)                0         \n",
      "=================================================================\n",
      "Total params: 1,661,646\n",
      "Trainable params: 1,659,406\n",
      "Non-trainable params: 2,240\n",
      "_________________________________________________________________\n"
     ]
    }
   ],
   "source": [
    "if LINUX:\n",
    "    train_path = PathToFiles + '/train'\n",
    "    valid_path = PathToFiles + '/valid'\n",
    "else:\n",
    "    train_path = PathToFiles + '\\\\train'\n",
    "    valid_path = PathToFiles + '\\\\valid'\n",
    "\n",
    "train_datagen = ImageDataGenerator(\n",
    "    rescale = 1.0 / 255.0,     \n",
    "    rotation_range = 90, # rotation\n",
    "    horizontal_flip = True) # horizontal flip\n",
    "\n",
    "valid_datagen = ImageDataGenerator(\n",
    "    rescale = 1.0 / 255.0)\n",
    "\n",
    "train_generator = train_datagen.flow_from_directory(\n",
    "    train_path,\n",
    "    target_size = target_size,\n",
    "    batch_size = batch_size,\n",
    "    class_mode = \"categorical\",\n",
    "    seed = 123)\n",
    "\n",
    "valid_generator = valid_datagen.flow_from_directory(\n",
    "    valid_path,\n",
    "    target_size = target_size,\n",
    "    batch_size = batch_size,\n",
    "    class_mode = \"categorical\",\n",
    "    seed = 123)\n",
    "\n",
    "model = Sequential()\n",
    "\n",
    "model.add(Conv2D(32, (5, 5), padding = 'same', input_shape = input_shape))\n",
    "model.add(BatchNormalization())\n",
    "model.add(Activation('relu'))\n",
    "\n",
    "model.add(Conv2D(64, (5, 5)))\n",
    "model.add(MaxPooling2D())\n",
    "model.add(BatchNormalization())\n",
    "model.add(Activation('relu'))\n",
    "\n",
    "model.add(Conv2D(96, (3, 3)))\n",
    "model.add(MaxPooling2D())\n",
    "model.add(BatchNormalization())\n",
    "model.add(Activation('relu'))\n",
    "\n",
    "model.add(Conv2D(128, (3, 3)))\n",
    "model.add(MaxPooling2D())\n",
    "model.add(BatchNormalization())\n",
    "model.add(Activation('relu'))\n",
    "\n",
    "model.add(Conv2D(160, (3, 3)))\n",
    "model.add(BatchNormalization())\n",
    "model.add(Activation('relu'))\n",
    "\n",
    "model.add(Conv2D(192,(3, 3)))\n",
    "model.add(BatchNormalization())\n",
    "model.add(Activation('relu'))\n",
    "\n",
    "model.add(Conv2D(256, (3, 3)))\n",
    "model.add(MaxPooling2D())\n",
    "model.add(BatchNormalization())\n",
    "model.add(Activation('relu'))\n",
    "\n",
    "model.add(Flatten())\n",
    "\n",
    "model.add(Dense(128))\n",
    "model.add(BatchNormalization())\n",
    "model.add(Activation('relu'))\n",
    "\n",
    "model.add(Dense(64))\n",
    "model.add(BatchNormalization())\n",
    "model.add(Activation('relu'))\n",
    "\n",
    "model.add(Dense(14))              \n",
    "model.add(Activation('softmax'))\n",
    "\n",
    "model.compile(loss      =  'categorical_crossentropy',\n",
    "              optimizer =  'adam',\n",
    "              metrics   = ['categorical_accuracy', \n",
    "                           'accuracy'])\n",
    "\n",
    "model.summary()"
   ]
  },
  {
   "cell_type": "code",
   "execution_count": 10,
   "metadata": {},
   "outputs": [
    {
     "name": "stdout",
     "output_type": "stream",
     "text": [
      "Epoch 1/25\n",
      "1151/1151 [==============================] - 193s 163ms/step - loss: 1.9307 - categorical_accuracy: 0.3365 - accuracy: 0.3365 - val_loss: 1.7940 - val_categorical_accuracy: 0.3700 - val_accuracy: 0.3700\n",
      "Epoch 2/25\n",
      "1151/1151 [==============================] - 179s 156ms/step - loss: 1.1417 - categorical_accuracy: 0.5534 - accuracy: 0.5534 - val_loss: 1.3093 - val_categorical_accuracy: 0.5133 - val_accuracy: 0.5133\n",
      "Epoch 3/25\n",
      "1151/1151 [==============================] - 174s 151ms/step - loss: 0.9360 - categorical_accuracy: 0.6176 - accuracy: 0.6176 - val_loss: 1.0127 - val_categorical_accuracy: 0.5915 - val_accuracy: 0.5915\n",
      "Epoch 4/25\n",
      "1151/1151 [==============================] - 174s 151ms/step - loss: 0.8416 - categorical_accuracy: 0.6512 - accuracy: 0.6512 - val_loss: 1.4990 - val_categorical_accuracy: 0.4589 - val_accuracy: 0.4589\n",
      "Epoch 5/25\n",
      "1151/1151 [==============================] - 176s 153ms/step - loss: 0.7819 - categorical_accuracy: 0.6750 - accuracy: 0.6750 - val_loss: 1.1277 - val_categorical_accuracy: 0.5580 - val_accuracy: 0.5580\n",
      "Epoch 6/25\n",
      "1151/1151 [==============================] - 174s 151ms/step - loss: 0.7477 - categorical_accuracy: 0.6863 - accuracy: 0.6863 - val_loss: 1.0898 - val_categorical_accuracy: 0.5543 - val_accuracy: 0.5543\n",
      "Epoch 7/25\n",
      "1151/1151 [==============================] - 173s 151ms/step - loss: 0.7313 - categorical_accuracy: 0.6912 - accuracy: 0.6912 - val_loss: 0.8423 - val_categorical_accuracy: 0.6609 - val_accuracy: 0.6609\n",
      "Epoch 8/25\n",
      "1151/1151 [==============================] - 173s 151ms/step - loss: 0.7002 - categorical_accuracy: 0.7063 - accuracy: 0.7063 - val_loss: 0.8882 - val_categorical_accuracy: 0.6256 - val_accuracy: 0.6256\n",
      "Epoch 9/25\n",
      "1151/1151 [==============================] - 173s 150ms/step - loss: 0.6825 - categorical_accuracy: 0.7219 - accuracy: 0.7219 - val_loss: 0.8945 - val_categorical_accuracy: 0.6456 - val_accuracy: 0.6456\n",
      "Epoch 10/25\n",
      "1151/1151 [==============================] - 173s 150ms/step - loss: 0.6628 - categorical_accuracy: 0.7224 - accuracy: 0.7224 - val_loss: 0.9226 - val_categorical_accuracy: 0.6240 - val_accuracy: 0.6240\n",
      "Epoch 11/25\n",
      "1151/1151 [==============================] - 173s 150ms/step - loss: 0.6502 - categorical_accuracy: 0.7310 - accuracy: 0.7310 - val_loss: 1.3828 - val_categorical_accuracy: 0.5671 - val_accuracy: 0.5671\n",
      "Epoch 12/25\n",
      "1151/1151 [==============================] - 173s 150ms/step - loss: 0.6297 - categorical_accuracy: 0.7384 - accuracy: 0.7384 - val_loss: 0.8786 - val_categorical_accuracy: 0.6697 - val_accuracy: 0.6697\n",
      "Epoch 13/25\n",
      "1151/1151 [==============================] - 173s 151ms/step - loss: 0.6302 - categorical_accuracy: 0.7360 - accuracy: 0.7360 - val_loss: 0.7788 - val_categorical_accuracy: 0.6906 - val_accuracy: 0.6906\n",
      "Epoch 14/25\n",
      "1151/1151 [==============================] - 173s 150ms/step - loss: 0.6133 - categorical_accuracy: 0.7415 - accuracy: 0.7415 - val_loss: 0.7861 - val_categorical_accuracy: 0.6825 - val_accuracy: 0.6825\n",
      "Epoch 15/25\n",
      "1151/1151 [==============================] - 173s 150ms/step - loss: 0.5970 - categorical_accuracy: 0.7517 - accuracy: 0.7517 - val_loss: 0.7428 - val_categorical_accuracy: 0.6931 - val_accuracy: 0.6931\n",
      "Epoch 16/25\n",
      "1151/1151 [==============================] - 173s 150ms/step - loss: 0.5912 - categorical_accuracy: 0.7551 - accuracy: 0.7551 - val_loss: 0.7317 - val_categorical_accuracy: 0.7044 - val_accuracy: 0.7044\n",
      "Epoch 17/25\n",
      "1151/1151 [==============================] - 173s 151ms/step - loss: 0.5847 - categorical_accuracy: 0.7567 - accuracy: 0.7567 - val_loss: 0.7614 - val_categorical_accuracy: 0.6982 - val_accuracy: 0.6982\n",
      "Epoch 18/25\n",
      "1151/1151 [==============================] - 174s 151ms/step - loss: 0.5836 - categorical_accuracy: 0.7556 - accuracy: 0.7556 - val_loss: 0.7033 - val_categorical_accuracy: 0.7135 - val_accuracy: 0.7135\n",
      "Epoch 19/25\n",
      "1151/1151 [==============================] - 176s 153ms/step - loss: 0.5720 - categorical_accuracy: 0.7631 - accuracy: 0.7631 - val_loss: 0.8150 - val_categorical_accuracy: 0.6672 - val_accuracy: 0.6672\n",
      "Epoch 20/25\n",
      "1151/1151 [==============================] - 177s 153ms/step - loss: 0.5649 - categorical_accuracy: 0.7657 - accuracy: 0.7657 - val_loss: 0.8392 - val_categorical_accuracy: 0.6625 - val_accuracy: 0.6625\n",
      "Epoch 21/25\n",
      "1151/1151 [==============================] - 176s 153ms/step - loss: 0.5664 - categorical_accuracy: 0.7658 - accuracy: 0.7658 - val_loss: 0.7648 - val_categorical_accuracy: 0.6947 - val_accuracy: 0.6947\n",
      "Epoch 22/25\n",
      "1151/1151 [==============================] - 176s 153ms/step - loss: 0.5542 - categorical_accuracy: 0.7712 - accuracy: 0.7712 - val_loss: 0.7401 - val_categorical_accuracy: 0.6953 - val_accuracy: 0.6953\n",
      "Epoch 23/25\n",
      "1151/1151 [==============================] - 177s 154ms/step - loss: 0.5542 - categorical_accuracy: 0.7686 - accuracy: 0.7686 - val_loss: 0.7190 - val_categorical_accuracy: 0.7154 - val_accuracy: 0.7154\n",
      "Epoch 24/25\n",
      "1151/1151 [==============================] - 178s 155ms/step - loss: 0.5436 - categorical_accuracy: 0.7729 - accuracy: 0.7729 - val_loss: 0.7055 - val_categorical_accuracy: 0.7210 - val_accuracy: 0.7210\n",
      "Epoch 25/25\n",
      "1151/1151 [==============================] - 177s 154ms/step - loss: 0.5318 - categorical_accuracy: 0.7761 - accuracy: 0.7761 - val_loss: 0.7229 - val_categorical_accuracy: 0.7113 - val_accuracy: 0.7113\n"
     ]
    },
    {
     "data": {
      "image/png": "[encoded data removed]",
      "text/plain": [
       "<Figure size 432x288 with 1 Axes>"
      ]
     },
     "metadata": {
      "needs_background": "light"
     },
     "output_type": "display_data"
    }
   ],
   "source": [
    "history = model.fit(train_generator, epochs = epoch_count, validation_data = valid_generator)\n",
    "\n",
    "plot_history(history)"
   ]
  },
  {
   "cell_type": "code",
   "execution_count": null,
   "metadata": {},
   "outputs": [],
   "source": []
  },
  {
   "cell_type": "code",
   "execution_count": null,
   "metadata": {},
   "outputs": [],
   "source": []
  },
  {
   "cell_type": "code",
   "execution_count": null,
   "metadata": {
    "scrolled": false
   },
   "outputs": [],
   "source": [
    "\n"
   ]
  },
  {
   "cell_type": "code",
   "execution_count": null,
   "metadata": {},
   "outputs": [],
   "source": []
  },
  {
   "cell_type": "code",
   "execution_count": null,
   "metadata": {},
   "outputs": [],
   "source": []
  },
  {
   "cell_type": "code",
   "execution_count": null,
   "metadata": {},
   "outputs": [],
   "source": []
  }
 ],
 "metadata": {
  "kernelspec": {
   "display_name": "Python 3",
   "language": "python",
   "name": "python3"
  },
  "language_info": {
   "codemirror_mode": {
    "name": "ipython",
    "version": 3
   },
   "file_extension": ".py",
   "mimetype": "text/x-python",
   "name": "python",
   "nbconvert_exporter": "python",
   "pygments_lexer": "ipython3",
   "version": "3.8.5"
  }
 },
 "nbformat": 4,
 "nbformat_minor": 4
}
